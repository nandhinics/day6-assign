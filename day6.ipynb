{
 "cells": [
  {
   "cell_type": "code",
   "execution_count": 1,
   "metadata": {},
   "outputs": [
    {
     "name": "stdout",
     "output_type": "stream",
     "text": [
      "Ownername Divya\n",
      "Balance 50000\n",
      "Depositamount 9000\n",
      "Currentbalance 59000\n",
      "Ownername Divya\n",
      "Balance 50000\n",
      "Amount withdrawn 10000\n",
      "Currentbalance 60000\n"
     ]
    }
   ],
   "source": [
    "class bankaccount():\n",
    "    def __init__(self,ownername,balance):\n",
    "        self.ownername=ownername\n",
    "        self.balance=balance\n",
    "    def deposit(self,amountdeposited):\n",
    "        print(\"Ownername\",self.ownername)\n",
    "        print(\"Balance\",self.balance)\n",
    "        print(\"Depositamount\",amountdeposited)\n",
    "        balamount=self.balance+amountdeposited\n",
    "        print(\"Currentbalance\",balamount)\n",
    "    def withdraw(self,amountwithdrawn):\n",
    "        print(\"Ownername\",self.ownername)\n",
    "        print(\"Balance\",self.balance)\n",
    "        print(\"Amount withdrawn\",amountwithdrawn)\n",
    "        balamount=self.balance+amountwithdrawn\n",
    "        print(\"Currentbalance\",balamount)\n",
    "person=bankaccount(\"Divya\",50000)\n",
    "person.deposit(9000)\n",
    "person.withdraw(10000)"
   ]
  },
  {
   "cell_type": "code",
   "execution_count": 9,
   "metadata": {},
   "outputs": [
    {
     "name": "stdout",
     "output_type": "stream",
     "text": [
      "Enter the radius of the cone6\n",
      "Enter the height of the cone8\n",
      "Volume of the given cone is 50.26548245743669\n",
      "Surface area of the given cone is 301.59289474462014\n"
     ]
    }
   ],
   "source": [
    "import math\n",
    "class cone():\n",
    "    def __init__(self,radius,height):\n",
    "        self.radius=radius\n",
    "        self.height=height\n",
    "    def volume(self):\n",
    "        volume=math.pi*self.radius*self.height/3\n",
    "        print(\"Volume of the given cone is\",volume)\n",
    "    def surfacearea(self):\n",
    "        base=math.pi*self.radius*self.radius\n",
    "        side=math.pi*self.radius* math.sqrt(self.height*self.height+self.radius*self.radius)\n",
    "        area=base+side\n",
    "        print(\"Surface area of the given cone is\",area)\n",
    "\n",
    "r=int(input(\"Enter the radius of the cone\"))     \n",
    "h=int(input(\"Enter the height of the cone\"))\n",
    "c=cone(r,h)\n",
    "c.volume()\n",
    "c.surfacearea()"
   ]
  },
  {
   "cell_type": "code",
   "execution_count": null,
   "metadata": {},
   "outputs": [],
   "source": []
  }
 ],
 "metadata": {
  "kernelspec": {
   "display_name": "Python 3",
   "language": "python",
   "name": "python3"
  },
  "language_info": {
   "codemirror_mode": {
    "name": "ipython",
    "version": 3
   },
   "file_extension": ".py",
   "mimetype": "text/x-python",
   "name": "python",
   "nbconvert_exporter": "python",
   "pygments_lexer": "ipython3",
   "version": "3.8.3"
  }
 },
 "nbformat": 4,
 "nbformat_minor": 4
}
